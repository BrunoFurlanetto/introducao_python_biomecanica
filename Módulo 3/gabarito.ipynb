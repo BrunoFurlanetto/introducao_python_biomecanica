{
 "cells": [
  {
   "metadata": {},
   "cell_type": "markdown",
   "source": "Exercício 2",
   "id": "88d190d559b9be48"
  },
  {
   "cell_type": "code",
   "execution_count": null,
   "id": "initial_id",
   "metadata": {
    "collapsed": true
   },
   "outputs": [],
   "source": [
    "valor_x = dados_cinematica['CdM_X']\n",
    "valor_y = dados_cinematica['CdM_Y']\n",
    "plt.figure(figsize=(8,8))\n",
    "\n",
    "# Podemos inserir diversos vetores como linhas independentes\n",
    "plt.plot(valor_x, valor_y)\n",
    "plt.xlim(0, 1)\n",
    "plt.ylim(dados_cinematica['CdM_Y'].min(), dados_cinematica['CdM_Y'].max())\n",
    "# lembrando da importancia de se comunicar com o leitor\n",
    "plt.xlabel('Tempo (s)')\n",
    "plt.ylabel('Altura (m)')"
   ]
  },
  {
   "metadata": {},
   "cell_type": "markdown",
   "source": "Exercício 3",
   "id": "4179d885832a0e1c"
  },
  {
   "metadata": {},
   "cell_type": "code",
   "outputs": [],
   "execution_count": null,
   "source": [
    "# fig, ax = plt.subplots(3,1,figsize=(10,8))\n",
    "# insira abaixo os elemntos de cada area de plotagem\n",
    "# mais uma vez, nossa derivada tem um ponto a menos que o vetor original.\n",
    "# Podemos inclui um 0 no final do vetor, para compensar o deslocamento temporal do calculo da velocidade\n",
    "# aceleracao = np.concatenate([aceleracao, [0]])\n",
    "# podemos utilizar uma função para criar automaticamente uma figura e varias areas de plotagem\n",
    "# para criar figuras mais elaboradas\n",
    "fig, ax = plt.subplots(3, 1, dpi=200)\n",
    "\n",
    "# entao definir o que sera inserido em cada area de plotagem\n",
    "ax[0].plot(vetor_tempo, posicao, color='red')\n",
    "ax[0].set_ylabel('Posição (m)')\n",
    "\n",
    "ax[1].plot(vetor_tempo, velocidade, color='blue')\n",
    "ax[1].axhline(0, color='black', alpha=.2)\n",
    "ax[1].set_ylabel('Velocidade (m/s)')\n",
    "\n",
    "ax[2].plot(vetor_tempo, aceleracao, color='green')\n",
    "ax[2].axhline(0, color='black', alpha=.2)\n",
    "ax[2].set_ylabel('Aceleração (m/s²)')\n",
    "\n",
    "# acrescentar elementos no gráfico\n",
    "ax[2].set_xlabel('Tempo (s)')\n",
    "\n",
    "# Configurar a figura toda, auto ajuste do layout\n",
    "fig.tight_layout()"
   ],
   "id": "62f0e81e3f9befe6"
  },
  {
   "metadata": {},
   "cell_type": "markdown",
   "source": "Exercício 4",
   "id": "3cd414c77c74bf16"
  },
  {
   "metadata": {},
   "cell_type": "code",
   "outputs": [],
   "execution_count": null,
   "source": [
    "angulos_tornozelo = []\n",
    "\n",
    "for i in dados_cinematica.index:\n",
    "    a = dados_cinematica.loc[i,'JOELHO_X'],dados_cinematica.loc[i,'JOELHO_Y']\n",
    "    b = dados_cinematica.loc[i,'TORNOZELO_X'],dados_cinematica.loc[i,'TORNOZELO_Y']\n",
    "    c = dados_cinematica.loc[i,'HALUX_X'],dados_cinematica.loc[i,'HALUX_Y']\n",
    "    angulo = calcula_angulo_2D(a,b,c)\n",
    "    # agora podemos inserir o valor calculado na lista\n",
    "    angulos_tornozelo.append(angulo)\n",
    "    \n",
    "# nada acontece pois nao armazenamos os valores ou imprimimos em tela\n",
    "plt.plot(vetor_tempo, angulos_tornozelo)"
   ],
   "id": "3019e4ffafa32f5c"
  },
  {
   "metadata": {},
   "cell_type": "markdown",
   "source": "Exercício 7",
   "id": "1c85b68a434670c2"
  },
  {
   "metadata": {},
   "cell_type": "code",
   "outputs": [],
   "execution_count": null,
   "source": [
    "inicios = np.where(auxiliar == 1)[0] \n",
    "finais = np.where(auxiliar == -1)[0]\n",
    "tempo_voo = (inicios[1] - finais[0]) / freq_amostragem\n",
    "altura = 0.5 * 9.8 * ((tempo_voo / 2) ** 2)\n",
    "print(altura)"
   ],
   "id": "571c0d01531356c0"
  }
 ],
 "metadata": {
  "kernelspec": {
   "display_name": "Python 3",
   "language": "python",
   "name": "python3"
  },
  "language_info": {
   "codemirror_mode": {
    "name": "ipython",
    "version": 2
   },
   "file_extension": ".py",
   "mimetype": "text/x-python",
   "name": "python",
   "nbconvert_exporter": "python",
   "pygments_lexer": "ipython2",
   "version": "2.7.6"
  }
 },
 "nbformat": 4,
 "nbformat_minor": 5
}
