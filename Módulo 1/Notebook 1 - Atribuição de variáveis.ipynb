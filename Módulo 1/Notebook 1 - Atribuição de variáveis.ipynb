{
 "cells": [
  {
   "metadata": {},
   "cell_type": "markdown",
   "source": [
    "___________\n",
    "# **Introdução a Programação Computacional em Python: Aplicações na Biomecânica**\n",
    "\n",
    "## **Organização**: Minicuros baseado no oferecido pela Sociedade Brasileira de Biomecânica (SBB)\n",
    "### **Professor**:\n",
    "*   Bruno Furlanetto\n",
    "______________________\n",
    "\n",
    "\n"
   ],
   "id": "64cc14fc416ab51d"
  },
  {
   "metadata": {},
   "cell_type": "markdown",
   "source": [
    "# **Notebook 1 - Atribuição de variáveis e Markdown**\n",
    "_________________"
   ],
   "id": "a902d1176fcf4780"
  },
  {
   "metadata": {},
   "cell_type": "markdown",
   "source": [
    "## Atribuição de Variáveis\n",
    "\n",
    "Vamos começar com a atribuição de variáveis em Python. Atribuir um valor a uma variável é simples. Basta usar o sinal de igual (`=`).\n",
    "\n",
    "```python\n",
    "# Atribuição de variáveis\n",
    "x = 10\n",
    "y = 5\n",
    "nome = 'bruno'\n",
    "idade = 30\n",
    "```"
   ],
   "id": "256fbc1fee18f514"
  },
  {
   "metadata": {},
   "cell_type": "code",
   "outputs": [],
   "execution_count": null,
   "source": [
    "x = 17\n",
    "y = 5\n",
    "nome = 'bruno'\n",
    "idade = 30"
   ],
   "id": "1e08dc1cd2a6a759"
  },
  {
   "metadata": {},
   "cell_type": "markdown",
   "source": [
    "## **Função `print`**\n",
    "A função `print` é usada para exibir informações na tela. Vamos imprimir as variáveis, como abaixo:"
   ],
   "id": "ff65f3e7d3a91080"
  },
  {
   "metadata": {
    "ExecuteTime": {
     "end_time": "2024-08-17T22:18:25.248291Z",
     "start_time": "2024-08-17T22:18:25.242658Z"
    }
   },
   "cell_type": "code",
   "source": [
    "# Usando a função print\n",
    "print('O valor de x é:', x)\n",
    "print('O valor de y é:', y)\n",
    "print('O nome é:', nome)\n",
    "print('A idade é:', idade,'anos')\n",
    "print(f'A idade é: {idade} anos')"
   ],
   "id": "b36ff5ebace31f8",
   "outputs": [
    {
     "name": "stdout",
     "output_type": "stream",
     "text": [
      "O valor de x é: 17\n",
      "O valor de y é: 5\n",
      "O nome é: bruno\n",
      "A idade é: 30 anos\n",
      "A idade é: 30 anos\n"
     ]
    }
   ],
   "execution_count": 10
  },
  {
   "metadata": {},
   "cell_type": "markdown",
   "source": [
    "___________________\n",
    "### **Operações Matemáticas**\n",
    "\n",
    "Você pode realizar operações matemáticas básicas com variáveis.\n"
   ],
   "id": "88f576b7d7ee4821"
  },
  {
   "metadata": {
    "ExecuteTime": {
     "end_time": "2024-08-17T22:18:25.267765Z",
     "start_time": "2024-08-17T22:18:25.260043Z"
    }
   },
   "cell_type": "code",
   "source": [
    "# Soma\n",
    "soma = x + y\n",
    "print(\"A soma de x e y é:\", soma)\n",
    "\n",
    "# Subtração\n",
    "subtracao = x - y\n",
    "print(\"A subtração de x e y é:\", subtracao)\n",
    "\n",
    "# Multiplicação\n",
    "multiplicacao = x * y\n",
    "print(\"A multiplicação de x e y é:\", multiplicacao)\n",
    "\n",
    "# Divisão\n",
    "divisao = x / y\n",
    "print(\"A divisão de x e y é:\", divisao)\n",
    "\n",
    "# Divisão inteira\n",
    "divisao_inteira = x // y\n",
    "print('A divisão inteira de x e y:', divisao_inteira)\n",
    "\n",
    "# Resto\n",
    "resto = x % y\n",
    "print(\"A resto de x e y:\", resto)\n",
    "\n",
    "#Exponenciação\n",
    "exponenciacao = x ** y\n",
    "print(\"A exponenciacao de x e y:\", exponenciacao)"
   ],
   "id": "997c44e235a686b5",
   "outputs": [
    {
     "name": "stdout",
     "output_type": "stream",
     "text": [
      "A soma de x e y é: 22\n",
      "A subtração de x e y é: 12\n",
      "A multiplicação de x e y é: 85\n",
      "A divisão de x e y é: 3.4\n",
      "A divisão inteira de x e y: 3\n",
      "A resto de x e y: 2\n",
      "A exponenciacao de x e y: 1419857\n"
     ]
    }
   ],
   "execution_count": 11
  },
  {
   "metadata": {},
   "cell_type": "markdown",
   "source": [
    "_____________\n",
    "## Criando Markdown\n",
    "\n",
    "Você pode adicionar células de texto usando markdown para documentar seu código e adicionar descrições."
   ],
   "id": "53354a83b2b09a36"
  },
  {
   "metadata": {},
   "cell_type": "markdown",
   "source": [
    "\n",
    "\n",
    "### Exemplo de Markdown\n",
    "\n",
    "Markdown é uma linguagem de marcação simples que você pode usar para formatar texto. Aqui estão alguns exemplos:\n",
    "\n",
    "- **Negrito**: `**texto**` ou `__texto__`\n",
    "- *Itálico*: `*texto*` ou `_texto_`\n",
    "- [Link](https://www.google.com): `[Link](URL)`\n",
    "- Listas:\n",
    "  - Item 1\n",
    "  - Item 2\n",
    "\n",
    "Você também pode adicionar cabeçalhos:\n",
    "\n",
    "# Cabeçalho 1\n",
    "## Cabeçalho 2\n",
    "### Cabeçalho 3\n",
    "\n",
    "E até mesmo código em bloco:\n"
   ],
   "id": "dd8f50abdfe8cbd3"
  },
  {
   "metadata": {},
   "cell_type": "markdown",
   "source": [
    "___________________\n",
    "Bons estudos!! 🙂"
   ],
   "id": "7bda4528914e5efe"
  }
 ],
 "metadata": {
  "kernelspec": {
   "display_name": "Python 3",
   "language": "python",
   "name": "python3"
  },
  "language_info": {
   "codemirror_mode": {
    "name": "ipython",
    "version": 2
   },
   "file_extension": ".py",
   "mimetype": "text/x-python",
   "name": "python",
   "nbconvert_exporter": "python",
   "pygments_lexer": "ipython2",
   "version": "2.7.6"
  }
 },
 "nbformat": 4,
 "nbformat_minor": 5
}
