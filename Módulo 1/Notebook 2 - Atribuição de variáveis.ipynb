{
 "cells": [
  {
   "metadata": {},
   "cell_type": "markdown",
   "source": [
    "___________\n",
    "# **Introdução a Programação Computacional em Python: Aplicações na Biomecânica**\n",
    "\n",
    "## **Organização**: Minicuros baseado no oferecido pela Sociedade Brasileira de Biomecânica (SBB)\n",
    "### **Professor**:\n",
    "*   Bruno Furlanetto\n",
    "______________________\n",
    "\n",
    "\n"
   ],
   "id": "64cc14fc416ab51d"
  },
  {
   "metadata": {},
   "cell_type": "markdown",
   "source": [
    "# **Notebook 2 - Atribução de Variáveis, Tipos de Variáveis e Operações Lógicas**\n",
    "_________________"
   ],
   "id": "a902d1176fcf4780"
  },
  {
   "metadata": {},
   "cell_type": "markdown",
   "source": [
    "# Introdução ao Python\n",
    "\n",
    "Neste notebook, vamos explorar conceitos básicos de Python, incluindo a atribuição de variáveis, tipos de variáveis, e operadores relacionais.\n",
    "\n",
    "## Atribuição de Diferentes Variáveis\n",
    "\n",
    "Atribuir valores a variáveis em Python é simples. Você usa o sinal de igual (`=`) para fazer isso. Aqui estão alguns exemplos:\n",
    "\n",
    "```python\n",
    "# Atribuição de variáveis\n",
    "a = 10              # Inteiro\n",
    "b = 15.5            # Float\n",
    "c = \"Olá, mundo!\"   # String\n",
    "d = True            # Booleano\n",
    "```"
   ],
   "id": "256fbc1fee18f514"
  },
  {
   "metadata": {},
   "cell_type": "markdown",
   "source": [
    "____________\n",
    "### Inteiros (int)\n",
    "\n",
    "Números inteiros são números sem parte decimal.\n",
    "\n",
    "```python\n",
    "# Inteiro\n",
    "x = 10\n",
    "print(\"O valor de x é:\", x)\n",
    "print(\"O tipo de x é:\", type(x))\n",
    "```"
   ],
   "id": "5a2e8fde29462313"
  },
  {
   "metadata": {
    "ExecuteTime": {
     "end_time": "2024-08-17T22:17:27.147231Z",
     "start_time": "2024-08-17T22:17:27.139855Z"
    }
   },
   "cell_type": "code",
   "source": [
    "# Inteiro\n",
    "x = 10\n",
    "print(\"O valor de x é:\", x)\n",
    "print(\"O tipo de x é:\", type(x))"
   ],
   "id": "3b83852ef5d7bb3d",
   "outputs": [
    {
     "name": "stdout",
     "output_type": "stream",
     "text": [
      "O valor de x é: 10\n",
      "O tipo de x é: <class 'int'>\n"
     ]
    }
   ],
   "execution_count": 9
  },
  {
   "metadata": {},
   "cell_type": "markdown",
   "source": [
    "___________________\n",
    "### Float\n",
    "\n",
    "Números float são números com parte decimal.\n",
    "\n",
    "```python\n",
    "# Float\n",
    "y = 10.5\n",
    "print(\"O valor de y é:\", y)\n",
    "print(\"O tipo de y é:\", type(y))\n",
    "```"
   ],
   "id": "ff65f3e7d3a91080"
  },
  {
   "metadata": {
    "ExecuteTime": {
     "end_time": "2024-08-17T22:17:27.200022Z",
     "start_time": "2024-08-17T22:17:27.194380Z"
    }
   },
   "cell_type": "code",
   "source": [
    "y = 10.5\n",
    "print(\"O valor de y é:\", y)\n",
    "print(\"O tipo de y é:\", type(y))"
   ],
   "id": "b36ff5ebace31f8",
   "outputs": [
    {
     "name": "stdout",
     "output_type": "stream",
     "text": [
      "O valor de y é: 10.5\n",
      "O tipo de y é: <class 'float'>\n"
     ]
    }
   ],
   "execution_count": 10
  },
  {
   "metadata": {},
   "cell_type": "markdown",
   "source": [
    "__________\n",
    "### Strings\n",
    "\n",
    "Strings são sequências de caracteres, usadas para representar texto.\n",
    "\n",
    "```python\n",
    "# String\n",
    "z = \"Python é incrível!\"\n",
    "print(\"O valor de z é:\", z)\n",
    "print(\"O tipo de z é:\", type(z))\n",
    "```"
   ],
   "id": "b740d973a56c230"
  },
  {
   "metadata": {
    "ExecuteTime": {
     "end_time": "2024-08-17T22:17:27.217336Z",
     "start_time": "2024-08-17T22:17:27.211996Z"
    }
   },
   "cell_type": "code",
   "source": [
    "nome_aluno = 'Bruno'    # Digite o seu nome aqui\n",
    "print(f'O nome do(a) aluno(a) é {nome_aluno}')"
   ],
   "id": "2e871fd4a10da5a8",
   "outputs": [
    {
     "name": "stdout",
     "output_type": "stream",
     "text": [
      "O nome do(a) aluno(a) é Bruno\n"
     ]
    }
   ],
   "execution_count": 11
  },
  {
   "metadata": {},
   "cell_type": "markdown",
   "source": [
    "______________\n",
    "### Booleanos\n",
    "\n",
    "Variáveis booleanas podem ter dois valores: `True` ou `False`.\n",
    "\n",
    "```python\n",
    "# Booleano\n",
    "w = True\n",
    "print(\"O valor de w é:\", w)\n",
    "print(\"O tipo de w é:\", type(w))\n",
    "```"
   ],
   "id": "88f576b7d7ee4821"
  },
  {
   "metadata": {
    "ExecuteTime": {
     "end_time": "2024-08-17T22:17:27.233948Z",
     "start_time": "2024-08-17T22:17:27.228312Z"
    }
   },
   "cell_type": "code",
   "source": [
    "w = True\n",
    "print(\"O valor de w é:\", w)\n",
    "print(\"O tipo de w é:\", type(w))"
   ],
   "id": "997c44e235a686b5",
   "outputs": [
    {
     "name": "stdout",
     "output_type": "stream",
     "text": [
      "O valor de w é: True\n",
      "O tipo de w é: <class 'bool'>\n"
     ]
    }
   ],
   "execution_count": 12
  },
  {
   "metadata": {},
   "cell_type": "markdown",
   "source": [
    "# Função `input` em Python\n",
    "\n",
    "A função `input` em Python é usada para ler dados fornecidos pelo usuário via teclado. Ela recebe uma string opcional que pode ser usada para exibir uma mensagem solicitando ao usuário que insira informações. O valor retornado é sempre uma string.\n",
    "\n",
    "## Sintaxe\n",
    "\n",
    "```python\n",
    "entrada = input(\"Digite algo: \")\n",
    "print(entrada)\n",
    "```"
   ],
   "id": "8dc5de922bfb598e"
  },
  {
   "metadata": {
    "ExecuteTime": {
     "end_time": "2024-08-17T22:53:37.933001Z",
     "start_time": "2024-08-17T22:53:36.288031Z"
    }
   },
   "cell_type": "code",
   "source": [
    "entrada = input(\"Digite algo: \")\n",
    "print(f'Você digitou: {entrada}')"
   ],
   "id": "cb161330cedffaff",
   "outputs": [
    {
     "name": "stdout",
     "output_type": "stream",
     "text": [
      "Você digitou: Bruno\n"
     ]
    }
   ],
   "execution_count": 15
  },
  {
   "metadata": {},
   "cell_type": "markdown",
   "source": [
    "________________________\n",
    "## Operadores Relacionais\n",
    "\n",
    "Operadores relacionais são usados para comparar valores. Eles retornam um valor booleano (`True` ou `False`).\n",
    "\n",
    "### Igual a (`==`)\n",
    "\n",
    "Verifica se dois valores são iguais.\n",
    "\n",
    "```python\n",
    "a = 5\n",
    "b = 10\n",
    "print(\"a == b:\", a == b)  # False\n",
    "```\n",
    "\n",
    "### Diferente de (`!=`)\n",
    "\n",
    "Verifica se dois valores são diferentes.\n",
    "\n",
    "```python\n",
    "print(\"a != b:\", a != b)  # True\n",
    "```\n",
    "\n",
    "### Maior que (`>`)\n",
    "\n",
    "Verifica se um valor é maior que o outro.\n",
    "\n",
    "```python\n",
    "print(\"a > b:\", a > b)  # False\n",
    "```\n",
    "\n",
    "### Menor que (`<`)\n",
    "\n",
    "Verifica se um valor é menor que o outro.\n",
    "\n",
    "```python\n",
    "print(\"a < b:\", a < b)  # True\n",
    "```\n",
    "\n",
    "### Maior ou igual a (`>=`)\n",
    "\n",
    "Verifica se um valor é maior ou igual a outro.\n",
    "\n",
    "```python\n",
    "print(\"a >= b:\", a >= b)  # False\n",
    "```\n",
    "\n",
    "### Menor ou igual a (`<=`)\n",
    "\n",
    "Verifica se um valor é menor ou igual a outro.\n",
    "\n",
    "```python\n",
    "print(\"a <= b:\", a <= b)  # True\n",
    "```"
   ],
   "id": "a57aec7dba4dac36"
  },
  {
   "metadata": {},
   "cell_type": "markdown",
   "source": "### **Praticando:**",
   "id": "53354a83b2b09a36"
  },
  {
   "metadata": {
    "ExecuteTime": {
     "end_time": "2024-08-17T22:17:27.290851Z",
     "start_time": "2024-08-17T22:17:27.283821Z"
    }
   },
   "cell_type": "code",
   "source": [
    "a = 10       # Troque os números\n",
    "\n",
    "b = 10      # Troque os números\n",
    "\n",
    "print(\"a == b:\", a == b)\n",
    "print(\"a != b:\", a != b)\n",
    "print(\"a < b:\", a < b)\n",
    "print(\"a > b:\", a < b)\n",
    "print(\"a <= b:\", a <= b)\n",
    "print(\"a >= b:\", a >= b)"
   ],
   "id": "ad766fe8a197ffe9",
   "outputs": [
    {
     "name": "stdout",
     "output_type": "stream",
     "text": [
      "a == b: True\n",
      "a != b: False\n",
      "a < b: False\n",
      "a > b: False\n",
      "a <= b: True\n",
      "a >= b: True\n"
     ]
    }
   ],
   "execution_count": 13
  },
  {
   "metadata": {},
   "cell_type": "markdown",
   "source": [
    "_______________\n",
    "## Nomes de Variáveis em Python\n",
    "\n",
    "Em Python, existem regras e convenções sobre como você pode nomear variáveis. Aqui estão algumas diretrizes:\n",
    "\n",
    "### **Como Pode Ser**\n",
    "\n",
    "- Os nomes das variáveis devem começar com uma letra (a-z, A-Z) ou um sublinhado (_).\n",
    "- Os nomes das variáveis podem conter letras, números (0-9), e sublinhados (_).\n",
    "- Python é sensível a maiúsculas e minúsculas, então `variavel` e `Variavel` são variáveis diferentes.\n",
    "\n",
    "Exemplos válidos:\n",
    "\n",
    "```python\n",
    "# Exemplos válidos\n",
    "nome = \"Alice\"\n",
    "_idade = 25\n",
    "altura2 = 1.75\n",
    "_temp = 37.5\n",
    "```"
   ],
   "id": "7bda4528914e5efe"
  },
  {
   "metadata": {
    "ExecuteTime": {
     "end_time": "2024-08-17T22:17:27.309327Z",
     "start_time": "2024-08-17T22:17:27.305816Z"
    }
   },
   "cell_type": "code",
   "source": "",
   "id": "44cdbc7e4d6bb21b",
   "outputs": [],
   "execution_count": 13
  },
  {
   "metadata": {},
   "cell_type": "markdown",
   "source": [
    "\n",
    "\n",
    "### **Como Não Pode Ser**\n",
    "\n",
    "- Nomes de variáveis não podem começar com um número.\n",
    "- Nomes de variáveis não podem conter espaços.\n",
    "- Nomes de variáveis não podem usar caracteres especiais como `@`, `#`, `&`, etc.\n",
    "- Nomes de variáveis não podem ser palavras reservadas (palavras-chave) do Python, como `class`, `for`, `if`, etc.\n",
    "\n",
    "Exemplos inválidos:\n",
    "\n",
    "```python\n",
    "# Exemplos inválidos\n",
    "2nome = \"Alice\"      # Começa com um número\n",
    "idade@ = 25          # Contém caractere especial\n",
    "altura cm = 1.75     # Contém espaço\n",
    "class = \"Primeira\"   # Palavra reservada\n",
    "```\n"
   ],
   "id": "bf50518d5ee024db"
  },
  {
   "metadata": {
    "ExecuteTime": {
     "end_time": "2024-08-17T22:17:27.369402Z",
     "start_time": "2024-08-17T22:17:27.365658Z"
    }
   },
   "cell_type": "code",
   "source": "",
   "id": "b73e2f408e9ffa12",
   "outputs": [],
   "execution_count": 13
  },
  {
   "metadata": {},
   "cell_type": "markdown",
   "source": [
    "\n",
    "### **Palavras Reservadas**\n",
    "\n",
    "Aqui estão algumas das palavras reservadas em Python que não podem ser usadas como nomes de variáveis:\n",
    "\n",
    "```\n",
    "False, None, True, and, as, assert, async, await, break, class, continue, def, del, elif, else, except, finally, for, from, global, if, import, in, is, lambda, nonlocal, not, or, pass, raise, return, try, while, with, yield\n",
    "```\n",
    "\n",
    "\n",
    "Tenha sempre em mente essas regras e convenções ao nomear suas variáveis para evitar erros no seu código."
   ],
   "id": "d6d6987cf2559cc1"
  },
  {
   "metadata": {},
   "cell_type": "markdown",
   "source": [
    "____________\n",
    "### Exercício 1\n",
    "## Pergunta: Operação Matemática\n",
    "\n",
    "**Sabendo que o melhor tempo da maratona é de 2h01m, e a distância da prova é de 42km, qual a velocidade média em m/s e km/h do atleta?**"
   ],
   "id": "a2ac0a9a62a1116a"
  }
 ],
 "metadata": {
  "kernelspec": {
   "display_name": "Python 3",
   "language": "python",
   "name": "python3"
  },
  "language_info": {
   "codemirror_mode": {
    "name": "ipython",
    "version": 2
   },
   "file_extension": ".py",
   "mimetype": "text/x-python",
   "name": "python",
   "nbconvert_exporter": "python",
   "pygments_lexer": "ipython2",
   "version": "2.7.6"
  }
 },
 "nbformat": 4,
 "nbformat_minor": 5
}
