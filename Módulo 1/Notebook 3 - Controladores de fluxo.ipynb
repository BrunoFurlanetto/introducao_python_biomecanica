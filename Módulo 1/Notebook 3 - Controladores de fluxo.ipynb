{
 "cells": [
  {
   "metadata": {},
   "cell_type": "markdown",
   "source": [
    "___________\n",
    "# **Introdução a Programação Computacional em Python: Aplicações na Biomecânica**\n",
    "\n",
    "## **Organização**: Minicuros baseado no oferecido pela Sociedade Brasileira de Biomecânica (SBB)\n",
    "### **Professor**:\n",
    "*   Bruno Furlanetto\n",
    "______________________\n",
    "\n",
    "\n"
   ],
   "id": "64cc14fc416ab51d"
  },
  {
   "metadata": {},
   "cell_type": "markdown",
   "source": [
    "# **Notebook 3 - Controladores de Fluxo e Repetições em Python**\n",
    "_________________"
   ],
   "id": "a902d1176fcf4780"
  },
  {
   "metadata": {},
   "cell_type": "markdown",
   "source": "Neste notebook, vamos explorar os controladores de fluxo e as repetições usando o loop `for` em Python. Vamos entender como essas estruturas são usadas para controlar o fluxo de execução do código e repetir operações.\n",
   "id": "256fbc1fee18f514"
  },
  {
   "metadata": {},
   "cell_type": "markdown",
   "source": [
    "## **Condicionais: `if`, `elif`, `else`**\n",
    "\n",
    "Os condicionais são usados para executar blocos de código com base em certas condições. A estrutura básica é:\n",
    "\n",
    "```python\n",
    "# Estrutura básica de um condicional\n",
    "x = 10\n",
    "if x > 5:\n",
    "    print(\"x é maior que 5\")\n",
    "elif x == 5:\n",
    "    print(\"x é igual a 5\")\n",
    "else:\n",
    "    print(\"x é menor que 5\")\n",
    "```\n"
   ],
   "id": "5a2e8fde29462313"
  },
  {
   "metadata": {
    "ExecuteTime": {
     "end_time": "2024-08-17T22:20:35.597404Z",
     "start_time": "2024-08-17T22:20:35.594688Z"
    }
   },
   "cell_type": "code",
   "source": "",
   "id": "3b83852ef5d7bb3d",
   "outputs": [],
   "execution_count": null
  },
  {
   "metadata": {},
   "cell_type": "markdown",
   "source": [
    "# Usando `match` e `case` no Python\n",
    "\n",
    "A partir do Python 3.10, foi introduzida uma nova estrutura de controle chamada `match-case`. Ela permite realizar a correspondência de padrões, semelhante ao `switch-case` em outras linguagens, mas com muito mais poder e flexibilidade. Para a maioria dos casos o uso do `switch-case` não se faz necessário, já que a sua maior diferença, **para a maioria dos casos**, quando comparado ao if está na performance de execução.\n",
    "\n",
    "## Sintaxe Básica\n",
    "\n",
    "```python\n",
    "dia = 'terça'\n",
    "\n",
    "match dia:\n",
    "    case 'segunda' | 'terça' | 'quarta' | 'quinta' | 'sexta':\n",
    "        print('Dia de trabalho.')\n",
    "    case \"sábado\" | \"domingo\":\n",
    "        print('Fim de semana!')\n",
    "    case _:\n",
    "        print('Dia inválido.')\n",
    "```"
   ],
   "id": "ff65f3e7d3a91080"
  },
  {
   "metadata": {
    "ExecuteTime": {
     "end_time": "2024-08-17T22:33:08.486315Z",
     "start_time": "2024-08-17T22:33:08.481749Z"
    }
   },
   "cell_type": "code",
   "source": [
    "dia = 'terça'\n",
    "\n",
    "match dia:\n",
    "    case 'segunda' | 'terça' | 'quarta' | 'quinta' | 'sexta':\n",
    "        print('Dia de trabalho.')\n",
    "    case \"sábado\" | \"domingo\":\n",
    "        print('Fim de semana!')\n",
    "    case _:\n",
    "        print('Dia inválido.')"
   ],
   "id": "b36ff5ebace31f8",
   "outputs": [
    {
     "name": "stdout",
     "output_type": "stream",
     "text": [
      "Dia de trabalho.\n"
     ]
    }
   ],
   "execution_count": 8
  },
  {
   "metadata": {},
   "cell_type": "markdown",
   "source": [
    "```python\n",
    "x = 10\n",
    "\n",
    "match x:\n",
    "    case _ if x > 5:\n",
    "        print(\"x é maior que 5\")\n",
    "    case 5:\n",
    "        print(\"x é igual a 5\")\n",
    "    case _:\n",
    "        print(\"x é menor que 5\")\n",
    "\n",
    "```"
   ],
   "id": "3cff6be7963c687"
  },
  {
   "metadata": {},
   "cell_type": "markdown",
   "source": [
    "## **Exercício 1**\n",
    "\n",
    "Crie um código que verifica se uma pessoa pode dirigir. Para isso, considere as seguintes regras:\n",
    "1. A pessoa deve ter 18 anos ou mais.\n",
    "2. A pessoa deve possuir uma carteira de motorista válida."
   ],
   "id": "81bc2accfe35c259"
  },
  {
   "metadata": {
    "ExecuteTime": {
     "end_time": "2024-08-17T22:17:27.217336Z",
     "start_time": "2024-08-17T22:17:27.211996Z"
    }
   },
   "cell_type": "code",
   "source": "",
   "id": "2e871fd4a10da5a8",
   "outputs": [
    {
     "name": "stdout",
     "output_type": "stream",
     "text": [
      "O nome do(a) aluno(a) é Bruno\n"
     ]
    }
   ],
   "execution_count": 11
  },
  {
   "metadata": {},
   "cell_type": "markdown",
   "source": [
    "___________\n",
    "## **Repetições: Loop for**\n",
    "\n",
    "O loop `for` é usado para iterar sobre uma sequência (como uma lista, tupla, string, ou range).\n",
    "\n",
    "### Estrutura Básica do Loop for\n",
    "\n",
    "```python\n",
    "# Estrutura básica do loop for\n",
    "for elemento in sequencia:\n",
    "    # faça algo com elemento\n",
    "```"
   ],
   "id": "88f576b7d7ee4821"
  },
  {
   "metadata": {},
   "cell_type": "markdown",
   "source": [
    "### Exemplos\n",
    "\n",
    "Vamos ver alguns exemplos práticos de como usar o loop `for`.\n",
    "\n",
    "Exemplo 1:\n",
    "```python\n",
    "# Exemplo 1: Iterar sobre uma lista\n",
    "frutas = [\"maçã\", \"banana\", \"cereja\"]\n",
    "\n",
    "for fruta in frutas:\n",
    "    print(\"Eu gosto de\", fruta)\n",
    "```"
   ],
   "id": "255c4a25ba5aeb71"
  },
  {
   "metadata": {
    "ExecuteTime": {
     "end_time": "2024-08-17T22:39:57.070442Z",
     "start_time": "2024-08-17T22:39:57.065565Z"
    }
   },
   "cell_type": "code",
   "source": [
    "frutas = [\"maçã\", \"banana\", \"cereja\"]\n",
    "\n",
    "for fruta in frutas:\n",
    "    print(\"Eu gosto de\", fruta)"
   ],
   "id": "997c44e235a686b5",
   "outputs": [
    {
     "name": "stdout",
     "output_type": "stream",
     "text": [
      "Eu gosto de maçã\n",
      "Eu gosto de banana\n",
      "Eu gosto de cereja\n"
     ]
    }
   ],
   "execution_count": 9
  },
  {
   "metadata": {},
   "cell_type": "markdown",
   "source": [
    "Exemplo 2:\n",
    "\n",
    "```python\n",
    "# Exemplo 2: Usar range() para gerar uma sequência de números\n",
    "for i in range(5):\n",
    "    print(\"Número:\", i)\n",
    "```"
   ],
   "id": "a57aec7dba4dac36"
  },
  {
   "metadata": {
    "ExecuteTime": {
     "end_time": "2024-08-17T22:40:21.792356Z",
     "start_time": "2024-08-17T22:40:21.785993Z"
    }
   },
   "cell_type": "code",
   "source": [
    "for i in range(5):\n",
    "    print(\"Número:\", i)"
   ],
   "id": "ad766fe8a197ffe9",
   "outputs": [
    {
     "name": "stdout",
     "output_type": "stream",
     "text": [
      "Número: 0\n",
      "Número: 1\n",
      "Número: 2\n",
      "Número: 3\n",
      "Número: 4\n"
     ]
    }
   ],
   "execution_count": 10
  },
  {
   "metadata": {},
   "cell_type": "markdown",
   "source": [
    "___________\n",
    "### **Exemplo prático**\n",
    "Vamos criar um código que calcula a média de distância corrida por cada jogador durante um jogo de futebol. Para isso, usaremos uma lista de jogadores e suas respectivas distâncias corridas."
   ],
   "id": "7bda4528914e5efe"
  },
  {
   "metadata": {},
   "cell_type": "markdown",
   "source": [
    "# Dicionários em Python\n",
    "\n",
    "Dicionários em Python são estruturas de dados que armazenam pares de chave-valor, permitindo acesso rápido aos valores por meio de suas chaves únicas. Eles são mutáveis, ou seja, podem ser alterados após a criação, e são úteis para organizar e acessar dados de forma eficiente.\n",
    "\n",
    "## Exemplo de um Dicionário\n",
    "\n",
    "```python\n",
    "# Exemplo de um dicionário\n",
    "dados_pessoa = {\n",
    "    \"nome\": \"João\",\n",
    "    \"idade\": 28,\n",
    "    \"cidade\": \"São Paulo\"\n",
    "}\n",
    "\n",
    "# Acessando valores pelo dicionário\n",
    "print(dados_pessoa[\"nome\"])   # Saída: João\n",
    "print(dados_pessoa[\"idade\"])  # Saída: 28\n",
    "```"
   ],
   "id": "4661389fd71a07d0"
  },
  {
   "metadata": {
    "ExecuteTime": {
     "end_time": "2024-08-17T22:49:15.534600Z",
     "start_time": "2024-08-17T22:49:15.529868Z"
    }
   },
   "cell_type": "code",
   "source": [
    "# Exemplo de um dicionário\n",
    "dados_pessoa = {\n",
    "    \"nome\": \"João\",\n",
    "    \"idade\": 28,\n",
    "    \"cidade\": \"São Paulo\"\n",
    "}\n",
    "\n",
    "# Acessando valores pelo dicionário\n",
    "print(dados_pessoa[\"nome\"])   # Saída: João\n",
    "print(dados_pessoa[\"idade\"])  # Saída: 28"
   ],
   "id": "8ea3a108752848e3",
   "outputs": [
    {
     "name": "stdout",
     "output_type": "stream",
     "text": [
      "João\n",
      "28\n"
     ]
    }
   ],
   "execution_count": 13
  },
  {
   "metadata": {
    "ExecuteTime": {
     "end_time": "2024-08-17T22:51:18.752152Z",
     "start_time": "2024-08-17T22:51:18.744716Z"
    }
   },
   "cell_type": "code",
   "source": [
    "distancias = {\n",
    "    \"Pedro\": [10.5, 12.3, 11.7, 10.2],\n",
    "    \"Lucas\": [9.4, 10.1, 9.8, 9.5],\n",
    "    \"Ana\": [11.0, 10.8, 11.5, 12.1],\n",
    "    \"Maria\": [8.7, 9.2, 8.5, 9.0]\n",
    "}\n",
    "\n",
    "# Dicionário para armazenar a média de distância de cada jogador\n",
    "media_distancias = {}\n",
    "\n",
    "# Loop para calcular a média de distância corrida por cada jogador\n",
    "for jogador, distancias_corridas in distancias.items():\n",
    "    print(f\"Jogador: {jogador}\")\n",
    "    print(f\"Distâncias Corridas: {distancias_corridas}\")\n",
    "    print(' ')\n",
    "\n",
    "    media_distancia = sum(distancias_corridas) / len(distancias_corridas)\n",
    "    media_distancias[jogador] = media_distancia\n",
    "\n",
    "# Exibindo o resultado\n",
    "for jogador, media in media_distancias.items():\n",
    "    print(f\"{jogador} correu em média {media:.2f} km por jogo.\")"
   ],
   "id": "44cdbc7e4d6bb21b",
   "outputs": [
    {
     "name": "stdout",
     "output_type": "stream",
     "text": [
      "Jogador: Pedro\n",
      "Distâncias Corridas: [10.5, 12.3, 11.7, 10.2]\n",
      " \n",
      "Jogador: Lucas\n",
      "Distâncias Corridas: [9.4, 10.1, 9.8, 9.5]\n",
      " \n",
      "Jogador: Ana\n",
      "Distâncias Corridas: [11.0, 10.8, 11.5, 12.1]\n",
      " \n",
      "Jogador: Maria\n",
      "Distâncias Corridas: [8.7, 9.2, 8.5, 9.0]\n",
      " \n",
      "Pedro correu em média 11.18 km por jogo.\n",
      "Lucas correu em média 9.70 km por jogo.\n",
      "Ana correu em média 11.35 km por jogo.\n",
      "Maria correu em média 8.85 km por jogo.\n"
     ]
    }
   ],
   "execution_count": 16
  },
  {
   "metadata": {
    "ExecuteTime": {
     "end_time": "2024-08-17T22:50:47.774321Z",
     "start_time": "2024-08-17T22:50:47.768937Z"
    }
   },
   "cell_type": "code",
   "source": "print(media_distancias)",
   "id": "4aa47d9616a6ae5a",
   "outputs": [
    {
     "name": "stdout",
     "output_type": "stream",
     "text": [
      "{'Pedro': 11.175, 'Lucas': 9.7, 'Ana': 11.35, 'Maria': 8.85}\n"
     ]
    }
   ],
   "execution_count": 15
  }
 ],
 "metadata": {
  "kernelspec": {
   "display_name": "Python 3",
   "language": "python",
   "name": "python3"
  },
  "language_info": {
   "codemirror_mode": {
    "name": "ipython",
    "version": 2
   },
   "file_extension": ".py",
   "mimetype": "text/x-python",
   "name": "python",
   "nbconvert_exporter": "python",
   "pygments_lexer": "ipython2",
   "version": "2.7.6"
  }
 },
 "nbformat": 4,
 "nbformat_minor": 5
}
