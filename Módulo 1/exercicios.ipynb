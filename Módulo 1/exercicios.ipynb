{
 "cells": [
  {
   "metadata": {},
   "cell_type": "markdown",
   "source": [
    "______________________\n",
    "\n",
    "# **Lista de Exercícios**\n",
    "\n",
    "* **Exercício 1**: Crie um programa que receba a idade de um atleta e verifique se ele pode competir em uma categoria sub-20.\n",
    "\n",
    "\n",
    "* **Exercício 2**: Escreva um programa que calcule a média de pontos de um jogador de basquete em 5 jogos.\n",
    "    ```python\n",
    "    pontos = [23, 18, 30, 25, 27]\n",
    "    ```\n",
    "\n",
    "\n",
    "* **Exercício 3**: Desenvolva um programa que leia o tempo (em segundos) de 3 voltas de um corredor e exiba o tempo total e a média por volta.\n",
    "\n",
    "\n",
    "* **Exercício 4**: Crie um programa que receba a altura (em metros) e o peso (em kg) de um jogador de vôlei e calcule seu IMC (Índice de Massa Corporal).\n",
    "\n",
    "\n",
    "* **Exercício 5**: Escreva um programa que leia a distância (em metros) e o tempo (em segundos) de uma corrida e calcule a velocidade média do corredor.\n",
    "\n",
    "\n",
    "* **Exercício 6**: Desenvolva um programa que receba a pontuação de um atleta de Decathlon  em 3 competições diferentes e determine a maior pontuação.\n",
    "\n",
    "\n",
    "* **Exercício 7**: Crie um programa que leia o número de gols marcados por um jogador em 10 partidas e exiba a quantidade total de gols.\n",
    "    ```python\n",
    "    gols = [\n",
    "        [3, 2, 1, 0, 2, 1, 4, 5, 2, 3],  # Gols do Jogador 1\n",
    "        [1, 1, 2, 3, 4, 2, 1, 1, 2, 3],  # Gols do Jogador 2\n",
    "        [2, 3, 3, 2, 1, 1, 2, 3, 4, 2],  # Gols do Jogador 3\n",
    "        [0, 1, 1, 0, 2, 3, 2, 1, 0, 1]   # Gols do Jogador 4\n",
    "    ]\n",
    "    ```\n",
    "\n",
    "\n",
    "* **Exercício 8**: Escreva um programa que receba a altura de 5 jogadores de basquete e determine a altura média do time e o nome do jogador mais alto.\n",
    "    ```python\n",
    "    jogadores = {\n",
    "        \"Lucas\": 1.95,\n",
    "        \"Carlos\": 1.88,\n",
    "        \"Felipe\": 2.03,\n",
    "        \"Matheus\": 1.90,\n",
    "        \"Ricardo\": 1.85\n",
    "    }\n",
    "    ```\n",
    "\n",
    "\n",
    "* **Exercício 9**: Desenvolva um programa que leia a quantidade de passos dados por um atleta em uma semana e calcule a média diária de passos.\n",
    "    ```python\n",
    "    passos_semana = [12000, 13500, 11000, 14000, 12500, 13000, 11500]\n",
    "    ```\n",
    "\n",
    "\n",
    "* **Exercício 10**: Crie um programa que receba a distância percorrida (em km) e o tempo gasto (em horas) por um ciclista e calcule sua velocidade média em km/h e m/s.\n"
   ],
   "id": "eccbba49528d9c81"
  }
 ],
 "metadata": {
  "kernelspec": {
   "display_name": "Python 3",
   "language": "python",
   "name": "python3"
  },
  "language_info": {
   "codemirror_mode": {
    "name": "ipython",
    "version": 2
   },
   "file_extension": ".py",
   "mimetype": "text/x-python",
   "name": "python",
   "nbconvert_exporter": "python",
   "pygments_lexer": "ipython2",
   "version": "2.7.6"
  }
 },
 "nbformat": 4,
 "nbformat_minor": 5
}
