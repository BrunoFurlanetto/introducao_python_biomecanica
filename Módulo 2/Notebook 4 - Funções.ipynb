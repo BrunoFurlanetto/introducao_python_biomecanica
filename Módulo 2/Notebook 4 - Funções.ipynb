{
 "cells": [
  {
   "metadata": {},
   "cell_type": "markdown",
   "source": [
    "___________\n",
    "# **Introdução a Programação Computacional em Python: Aplicações na Biomecânica**\n",
    "\n",
    "## **Organização**: Minicuros baseado no oferecido pela Sociedade Brasileira de Biomecânica (SBB)\n",
    "### **Professor**:\n",
    "*   Bruno Furlanetto\n",
    "______________________\n"
   ],
   "id": "64cc14fc416ab51d"
  },
  {
   "metadata": {},
   "cell_type": "markdown",
   "source": [
    "# **Notebook 4 - Funções**\n",
    "_________________"
   ],
   "id": "a902d1176fcf4780"
  },
  {
   "metadata": {},
   "cell_type": "markdown",
   "source": [
    "## **Introdução às Funções em Python**\n",
    "\n",
    "Neste notebook, vamos aprender sobre funções em Python. As funções permitem agrupar um conjunto de instruções sob um nome, tornando o código mais modular e reutilizável.\n",
    "\n",
    "### Definindo uma Função\n",
    "\n",
    "Para definir uma função em Python, usamos a palavra-chave `def` seguida pelo nome da função, parênteses e dois pontos. O corpo da função é indentado.\n",
    "\n",
    "### Exemplo Básico\n",
    "\n",
    "```python\n",
    "# Definindo uma função simples\n",
    "def saudacao():\n",
    "    print(\"Olá, mundo!\")\n",
    "\n",
    "# Chamando a função\n",
    "saudacao()\n",
    "```"
   ],
   "id": "256fbc1fee18f514"
  },
  {
   "metadata": {
    "ExecuteTime": {
     "end_time": "2024-08-18T14:30:03.947130Z",
     "start_time": "2024-08-18T14:30:03.938815Z"
    }
   },
   "cell_type": "code",
   "source": [
    "# Tente aqui:\n",
    "\n",
    "def saudacao():\n",
    "    print(\"Olá, mundo!\")\n",
    "\n",
    "# Chamando a função\n",
    "saudacao()"
   ],
   "id": "3b83852ef5d7bb3d",
   "outputs": [
    {
     "name": "stdout",
     "output_type": "stream",
     "text": [
      "Olá, mundo!\n"
     ]
    }
   ],
   "execution_count": 1
  },
  {
   "metadata": {},
   "cell_type": "markdown",
   "source": [
    "### Explicação\n",
    "\n",
    "- A função `saudacao` é definida sem parâmetros.\n",
    "- Quando chamamos `saudacao()`, a mensagem \"Olá, mundo!\" é impressa.\n",
    "\n",
    "## Funções com Parâmetros\n",
    "\n",
    "As funções podem receber parâmetros, que são valores passados para a função para que ela possa usá-los em suas operações.\n",
    "\n",
    "### Exemplo com Parâmetros\n",
    "\n",
    "```python\n",
    "# Definindo uma função com parâmetros\n",
    "def saudacao_personalizada(nome):\n",
    "    print(f\"Olá, {nome}!\")\n",
    "\n",
    "# Chamando a função com um argumento\n",
    "saudacao_personalizada(\"Alice\")\n",
    "```"
   ],
   "id": "ff65f3e7d3a91080"
  },
  {
   "metadata": {
    "ExecuteTime": {
     "end_time": "2024-08-18T14:30:56.283636Z",
     "start_time": "2024-08-18T14:30:56.278329Z"
    }
   },
   "cell_type": "code",
   "source": [
    "# Definindo uma função com parâmetros\n",
    "def saudacao_personalizada(nome):\n",
    "    print(f\"Olá, {nome}!\")\n",
    "\n",
    "# Chamando a função com um argumento\n",
    "nome = 'Bruno'\n",
    "saudacao_personalizada(nome)"
   ],
   "id": "b36ff5ebace31f8",
   "outputs": [
    {
     "name": "stdout",
     "output_type": "stream",
     "text": [
      "Olá, Bruno!\n"
     ]
    }
   ],
   "execution_count": 2
  },
  {
   "metadata": {},
   "cell_type": "markdown",
   "source": [
    "_______________\n",
    "## **Funções com Retorno**\n",
    "\n",
    "As funções podem retornar valores usando a palavra-chave `return`.\n",
    "\n",
    "### **Exemplo com Retorno**\n",
    "\n",
    "```python\n",
    "# Definindo uma função que retorna um valor\n",
    "def soma(a, b):\n",
    "    return a + b\n",
    "\n",
    "# Chamando a função e armazenando o resultado\n",
    "resultado = soma(3, 5)\n",
    "print(\"A soma é:\", resultado)\n",
    "```\n",
    "\n",
    "### **Explicação**\n",
    "\n",
    "- A função `soma` recebe dois parâmetros `a` e `b`.\n",
    "- A função calcula a soma de `a` e `b` e retorna o resultado.\n",
    "- O valor retornado é armazenado na variável `resultado` e impresso.\n",
    "\n",
    "## **Funções com Múltiplos Retornos**\n",
    "\n",
    "As funções podem retornar múltiplos valores como uma tupla.\n",
    "\n",
    "### **Exemplo com Múltiplos Retornos**\n",
    "\n",
    "```python\n",
    "# Definindo uma função que retorna múltiplos valores\n",
    "def operacoes(a, b):\n",
    "    soma = a + b\n",
    "    diferenca = a - b\n",
    "    return soma, diferenca\n",
    "\n",
    "# Chamando a função e armazenando os resultados\n",
    "s, d = operacoes(10, 5)\n",
    "print(\"Soma:\", s)\n",
    "print(\"Diferença:\", d)\n",
    "```\n",
    "\n",
    "### **Explicação**\n",
    "\n",
    "- A função `operacoes` recebe dois parâmetros `a` e `b`.\n",
    "- A função calcula a soma e a diferença de `a` e `b`, retornando ambos os valores.\n",
    "- Os valores retornados são armazenados nas variáveis `s` e `d` e impressos."
   ],
   "id": "3cff6be7963c687"
  },
  {
   "metadata": {},
   "cell_type": "markdown",
   "source": [
    "______________\n",
    "### **Exercício 1**\n",
    "Vamos criar uma função que recebe a massa (em kg) e a estatura (em metros) de uma pessoa, calcula o IMC, e retorna o resultado juntamente com uma string apresentando o valor do IMC."
   ],
   "id": "81bc2accfe35c259"
  },
  {
   "metadata": {
    "ExecuteTime": {
     "end_time": "2024-08-17T22:17:27.217336Z",
     "start_time": "2024-08-17T22:17:27.211996Z"
    }
   },
   "cell_type": "code",
   "source": "",
   "id": "2e871fd4a10da5a8",
   "outputs": [
    {
     "name": "stdout",
     "output_type": "stream",
     "text": [
      "O nome do(a) aluno(a) é Bruno\n"
     ]
    }
   ],
   "execution_count": 11
  },
  {
   "metadata": {},
   "cell_type": "markdown",
   "source": [
    "### Explicação do Exemplo\n",
    "\n",
    "1. **Definição das Variáveis**:\n",
    "   Definimos as variáveis `massa` e `estatura`, respectivamente.\n",
    "\n",
    "2. **Chamada da Função**:\n",
    "   Chamamos a função `calcula_imc` com `massa` e `estatura` como argumentos.\n",
    "\n",
    "3. **Impressão do Resultado**:\n",
    "   O valor do IMC calculado e arredondado é então impresso.\n",
    "\n",
    "### Resumo\n",
    "\n",
    "A função `calcula_imc` é uma maneira simples e eficiente de calcular o Índice de Massa Corporal (IMC) de uma pessoa, utilizando sua massa e estatura, e retornando o resultado arredondado para duas casas decimais. Essa função pode ser usada para avaliar a condição corporal de uma pessoa com base no seu IMC."
   ],
   "id": "88f576b7d7ee4821"
  },
  {
   "metadata": {},
   "cell_type": "markdown",
   "source": [
    "__________________\n",
    "## Exercício 2\n",
    "### Função para Calcular e Classificar o IMC (Índice de Massa Corporal)\n",
    "\n",
    "Vamos criar três funções:\n",
    "1. Uma função para calcular o IMC.\n",
    "2. Uma função para classificar o IMC com base no valor calculado.\n",
    "3. Uma função que chama as duas funções anteriores e retorna o IMC e sua classificação."
   ],
   "id": "255c4a25ba5aeb71"
  },
  {
   "metadata": {
    "ExecuteTime": {
     "end_time": "2024-08-18T14:38:48.382978Z",
     "start_time": "2024-08-18T14:38:48.378777Z"
    }
   },
   "cell_type": "code",
   "source": "",
   "id": "997c44e235a686b5",
   "outputs": [],
   "execution_count": 2
  }
 ],
 "metadata": {
  "kernelspec": {
   "display_name": "Python 3",
   "language": "python",
   "name": "python3"
  },
  "language_info": {
   "codemirror_mode": {
    "name": "ipython",
    "version": 2
   },
   "file_extension": ".py",
   "mimetype": "text/x-python",
   "name": "python",
   "nbconvert_exporter": "python",
   "pygments_lexer": "ipython2",
   "version": "2.7.6"
  }
 },
 "nbformat": 4,
 "nbformat_minor": 5
}
