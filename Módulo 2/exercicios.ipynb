{
 "cells": [
  {
   "metadata": {},
   "cell_type": "markdown",
   "source": "# Lista de exercícios módulo 2",
   "id": "d9430fc693ae3b75"
  },
  {
   "metadata": {},
   "cell_type": "markdown",
   "source": [
    "* **Exercício 1 - Cálculo de Velocidade Média**\n",
    "Crie uma função chamada calcula_velocidade_media que receba a distância percorrida (em metros) e o tempo gasto (em segundos) por um atleta em uma corrida. A função deve retornar a velocidade média em metros por segundo (m/s).\n",
    "\n",
    "\n",
    "* **Exercício 2 - Cálculo de Desempenho no Salto em Distância:**\n",
    "Crie uma função que receba as distâncias de três saltos realizados por um atleta e retorne a média dos três saltos. Em seguida, crie outra função que classifique o desempenho do atleta com base na média obtida: \"Excelente\" para médias acima de 7 metros, \"Bom\" para médias entre 5 e 7 metros, e \"Regular\" para médias abaixo de 5 metros.\n",
    "\n",
    "\n",
    "* **Exercício 3 - Classificação de Atletas:**\n",
    "Crie uma função que receba o número de gols marcados e assistências feitas por um jogador em uma temporada, e calcule um índice de desempenho usando a fórmula: desempenho = (gols * 4) + (assistências * 2). A função deve classificar o desempenho do jogador como \"Alto\", \"Médio\" ou \"Baixo\" com base no valor do índice.\n",
    "\n",
    "\n",
    "* **Exercício 4 - Calculadora de IMC para Atletas:**\n",
    "Crie uma função que receba a massa corporal e a altura de um atleta e retorne o Índice de Massa Corporal (IMC). Em seguida, crie outra função que classifique o IMC em categorias como \"Abaixo do peso\", \"Peso normal\", \"Sobrepeso\" e \"Obesidade\", com base nos valores calculados.\n",
    "\n",
    "\n",
    "* **Exercício 5 - Análise de Rendimento em Provas de Corrida:**\n",
    "Crie uma função que receba os tempos (em segundos) de um atleta em três corridas diferentes e retorne o tempo médio. Crie outra função que, com base no tempo médio, classifique o atleta como \"Rápido\" (tempo médio < 10s), \"Moderado\" (tempo entre 10s e 15s), ou \"Lento\" (tempo > 15s).\n",
    "\n",
    "\n",
    "* **Exercício 6 - Cálculo de Pontuação em Tabelas de Futebol:**\n",
    "Usando Pandas, crie um DataFrame com dados fictícios de 10 times de futebol, incluindo colunas como \"Nome do Time\", \"Vitórias\", \"Empates\", \"Derrotas\", \"Gols Pró\" e \"Gols Contra\". Em seguida, crie uma nova coluna chamada \"Pontos\", onde cada vitória vale 3 pontos, e cada empate vale 1 ponto. Calcule a pontuação total de cada time.\n",
    "\n",
    "\n",
    "* **Exercício 7 - Análise de Dados de Atletas:**\n",
    "Crie um DataFrame com dados fictícios de 10 atletas, incluindo colunas como \"Nome\", \"Esporte\", \"Gols\", \"Assistências\", \"Tempo de Jogo\". Utilize o Pandas para calcular a média de gols e assistências por esporte. Filtre os atletas que jogam mais de 60 minutos por jogo e têm mais de 5 gols marcados.\n",
    "\n",
    "\n",
    "* **Exercício 8 - Classificação de Jogadores por Desempenho:**\n",
    "Com base no DataFrame criado anteriormente, adicione uma nova coluna chamada \"Desempenho\" que será calculada usando a fórmula: Desempenho = (Gols * 3) + (Assistências * 2). Em seguida, ordene os jogadores por ordem decrescente de desempenho e salve os resultados em um novo arquivo CSV.\n",
    "\n",
    "\n",
    "* **Exercício 9 - Análise Estatística de Provas Esportivas:**\n",
    "Crie um DataFrame com os tempos de 10 atletas em três diferentes modalidades esportivas (corrida, natação, ciclismo). Calcule a média, mediana e desvio padrão dos tempos para cada modalidade. Em seguida, filtre os atletas que têm tempos abaixo da média em pelo menos duas modalidades.\n",
    "\n",
    "\n",
    "* **Exercício 10 - Simulação de Torneio de Futebol (desafio):**\n",
    "Crie um DataFrame para simular um torneio de futebol com 10 times. O DataFrame deve ter as seguintes colunas:\n",
    "\n",
    "\n",
    "* Nome do Time: Nome do time;\n",
    "* Jogos Disputados: Número total de jogos (10 para cada time).\n",
    "* Vitórias: Número de vitórias.\n",
    "* Empates: Número de empates.\n",
    "* Derrotas: Número de derrotas.\n",
    "* Gols Pró: Gols marcados.\n",
    "* Gols Contra: Gols sofridos.\n",
    "\n",
    "\n",
    "* **Tarefas:**\n",
    "    * Gere dados aleatórios para vitórias, empates, derrotas, gols pró e gols contra.\n",
    "    * Certifique-se de que a soma de vitórias, empates e derrotas seja 10 para cada time.\n",
    "    * Calcule o saldo de gols: Gols Pró - Gols Contra.\n",
    "    * Calcule a pontuação de cada time: Vitórias * 3 + Empates * 1.\n",
    "    * Classifique os times pela pontuação em ordem decrescente. Se houver empates na pontuação, use o saldo de gols para desempatar.\n",
    "    * Exiba a tabela final com as seguintes colunas: Nome do Time, Jogos Disputados, Vitórias, Empates, Derrotas, Gols Pró, Gols Contra, Saldo de Gols, e Pontuação.\n",
    "\n",
    "* **Dicas:**\n",
    "    * Use pandas para criar e manipular o DataFrame.\n",
    "    * Utilize random para gerar os dados aleatórios."
   ],
   "id": "d192035db2c96453"
  }
 ],
 "metadata": {
  "kernelspec": {
   "display_name": "Python 3",
   "language": "python",
   "name": "python3"
  },
  "language_info": {
   "codemirror_mode": {
    "name": "ipython",
    "version": 2
   },
   "file_extension": ".py",
   "mimetype": "text/x-python",
   "name": "python",
   "nbconvert_exporter": "python",
   "pygments_lexer": "ipython2",
   "version": "2.7.6"
  }
 },
 "nbformat": 4,
 "nbformat_minor": 5
}
