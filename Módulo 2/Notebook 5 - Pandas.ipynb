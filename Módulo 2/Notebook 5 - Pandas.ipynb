{
 "cells": [
  {
   "metadata": {},
   "cell_type": "markdown",
   "source": [
    "___________\n",
    "# **Introdução a Programação Computacional em Python: Aplicações na Biomecânica**\n",
    "\n",
    "## **Organização**: Minicuros baseado no oferecido pela Sociedade Brasileira de Biomecânica (SBB)\n",
    "### **Professor**:\n",
    "*   Bruno Furlanetto\n",
    "______________________\n"
   ],
   "id": "64cc14fc416ab51d"
  },
  {
   "metadata": {},
   "cell_type": "markdown",
   "source": [
    "# **Notebook 4 - Pandas e DataFrames**\n",
    "_________________"
   ],
   "id": "a902d1176fcf4780"
  },
  {
   "metadata": {},
   "cell_type": "markdown",
   "source": [
    "Neste notebook, vamos aprender a usar a biblioteca Pandas para manipular e analisar dados no contexto esportivo. Pandas é uma biblioteca poderosa para análise de dados em Python, que fornece estruturas de dados rápidas, flexíveis e expressivas.\n",
    "\n",
    "## Instalando o Pandas\n",
    "\n",
    "Se você ainda não tem o Pandas instalado, use o comando abaixo para instalá-lo.\n",
    "\n",
    "```python\n",
    "# Instalar pandas\n",
    "!pip install pandas\n",
    "```\n",
    "\n",
    "## Importando a Biblioteca Pandas\n",
    "\n",
    "Primeiro, precisamos importar a biblioteca Pandas.\n",
    "\n",
    "```python\n",
    "import pandas as pd\n",
    "```"
   ],
   "id": "256fbc1fee18f514"
  },
  {
   "metadata": {
    "ExecuteTime": {
     "end_time": "2024-08-18T14:42:19.917483Z",
     "start_time": "2024-08-18T14:41:34.401576Z"
    }
   },
   "cell_type": "code",
   "source": "!pip install pandas",
   "id": "3b83852ef5d7bb3d",
   "outputs": [
    {
     "name": "stdout",
     "output_type": "stream",
     "text": [
      "Collecting pandas\n",
      "  Downloading pandas-2.2.2-cp312-cp312-win_amd64.whl.metadata (19 kB)\n",
      "Collecting numpy>=1.26.0 (from pandas)\n",
      "  Downloading numpy-2.0.1-cp312-cp312-win_amd64.whl.metadata (60 kB)\n",
      "     ---------------------------------------- 0.0/60.9 kB ? eta -:--:--\n",
      "     ------ --------------------------------- 10.2/60.9 kB ? eta -:--:--\n",
      "     -------------------------------------- 60.9/60.9 kB 817.1 kB/s eta 0:00:00\n",
      "Requirement already satisfied: python-dateutil>=2.8.2 in c:\\users\\bruno\\appdata\\roaming\\python\\python312\\site-packages (from pandas) (2.9.0.post0)\n",
      "Collecting pytz>=2020.1 (from pandas)\n",
      "  Downloading pytz-2024.1-py2.py3-none-any.whl.metadata (22 kB)\n",
      "Collecting tzdata>=2022.7 (from pandas)\n",
      "  Downloading tzdata-2024.1-py2.py3-none-any.whl.metadata (1.4 kB)\n",
      "Requirement already satisfied: six>=1.5 in c:\\users\\bruno\\appdata\\roaming\\python\\python312\\site-packages (from python-dateutil>=2.8.2->pandas) (1.16.0)\n",
      "Downloading pandas-2.2.2-cp312-cp312-win_amd64.whl (11.5 MB)\n",
      "   ---------------------------------------- 0.0/11.5 MB ? eta -:--:--\n",
      "   ----- ---------------------------------- 1.5/11.5 MB 19.4 MB/s eta 0:00:01\n",
      "   ------ --------------------------------- 1.9/11.5 MB 19.9 MB/s eta 0:00:01\n",
      "   ------------ --------------------------- 3.5/11.5 MB 20.2 MB/s eta 0:00:01\n",
      "   ------------- -------------------------- 3.8/11.5 MB 21.9 MB/s eta 0:00:01\n",
      "   ----------------- ---------------------- 4.9/11.5 MB 18.5 MB/s eta 0:00:01\n",
      "   ------------------ --------------------- 5.4/11.5 MB 20.1 MB/s eta 0:00:01\n",
      "   -------------------- ------------------- 5.8/11.5 MB 16.2 MB/s eta 0:00:01\n",
      "   ---------------------- ----------------- 6.4/11.5 MB 17.0 MB/s eta 0:00:01\n",
      "   ------------------------ --------------- 6.9/11.5 MB 15.3 MB/s eta 0:00:01\n",
      "   -------------------------- ------------- 7.5/11.5 MB 15.6 MB/s eta 0:00:01\n",
      "   --------------------------- ------------ 7.9/11.5 MB 14.4 MB/s eta 0:00:01\n",
      "   ------------------------------ --------- 8.8/11.5 MB 15.1 MB/s eta 0:00:01\n",
      "   ------------------------------- -------- 8.9/11.5 MB 14.3 MB/s eta 0:00:01\n",
      "   -------------------------------- ------- 9.4/11.5 MB 13.6 MB/s eta 0:00:01\n",
      "   --------------------------------- ------ 9.5/11.5 MB 13.0 MB/s eta 0:00:01\n",
      "   ----------------------------------- ---- 10.1/11.5 MB 13.0 MB/s eta 0:00:01\n",
      "   ------------------------------------ --- 10.5/11.5 MB 13.1 MB/s eta 0:00:01\n",
      "   -------------------------------------- - 11.1/11.5 MB 12.6 MB/s eta 0:00:01\n",
      "   ---------------------------------------  11.5/11.5 MB 12.6 MB/s eta 0:00:01\n",
      "   ---------------------------------------  11.5/11.5 MB 12.6 MB/s eta 0:00:01\n",
      "   ---------------------------------------  11.5/11.5 MB 12.6 MB/s eta 0:00:01\n",
      "   ---------------------------------------- 11.5/11.5 MB 10.6 MB/s eta 0:00:00\n",
      "Downloading numpy-2.0.1-cp312-cp312-win_amd64.whl (16.3 MB)\n",
      "   ---------------------------------------- 0.0/16.3 MB ? eta -:--:--\n",
      "   - -------------------------------------- 0.6/16.3 MB 20.5 MB/s eta 0:00:01\n",
      "   -- ------------------------------------- 0.8/16.3 MB 10.5 MB/s eta 0:00:02\n",
      "   --- ------------------------------------ 1.5/16.3 MB 10.3 MB/s eta 0:00:02\n",
      "   ---- ----------------------------------- 1.8/16.3 MB 9.5 MB/s eta 0:00:02\n",
      "   ------ --------------------------------- 2.5/16.3 MB 10.6 MB/s eta 0:00:02\n",
      "   ------ --------------------------------- 2.7/16.3 MB 9.7 MB/s eta 0:00:02\n",
      "   -------- ------------------------------- 3.4/16.3 MB 10.3 MB/s eta 0:00:02\n",
      "   -------- ------------------------------- 3.6/16.3 MB 10.4 MB/s eta 0:00:02\n",
      "   ---------- ----------------------------- 4.2/16.3 MB 9.9 MB/s eta 0:00:02\n",
      "   ---------- ----------------------------- 4.4/16.3 MB 9.5 MB/s eta 0:00:02\n",
      "   ------------ --------------------------- 4.9/16.3 MB 9.5 MB/s eta 0:00:02\n",
      "   ------------ --------------------------- 5.2/16.3 MB 9.5 MB/s eta 0:00:02\n",
      "   ------------- -------------------------- 5.6/16.3 MB 9.2 MB/s eta 0:00:02\n",
      "   -------------- ------------------------- 6.1/16.3 MB 9.5 MB/s eta 0:00:02\n",
      "   --------------- ------------------------ 6.4/16.3 MB 9.1 MB/s eta 0:00:02\n",
      "   ----------------- ---------------------- 7.0/16.3 MB 9.3 MB/s eta 0:00:01\n",
      "   ----------------- ---------------------- 7.2/16.3 MB 9.0 MB/s eta 0:00:02\n",
      "   ------------------- -------------------- 7.8/16.3 MB 9.3 MB/s eta 0:00:01\n",
      "   ------------------- -------------------- 8.1/16.3 MB 9.1 MB/s eta 0:00:01\n",
      "   --------------------- ------------------ 8.7/16.3 MB 9.2 MB/s eta 0:00:01\n",
      "   ---------------------- ----------------- 9.0/16.3 MB 9.1 MB/s eta 0:00:01\n",
      "   ----------------------- ---------------- 9.5/16.3 MB 9.2 MB/s eta 0:00:01\n",
      "   ------------------------ --------------- 9.9/16.3 MB 9.3 MB/s eta 0:00:01\n",
      "   ------------------------ --------------- 10.1/16.3 MB 9.1 MB/s eta 0:00:01\n",
      "   ------------------------- -------------- 10.4/16.3 MB 8.8 MB/s eta 0:00:01\n",
      "   ------------------------- -------------- 10.5/16.3 MB 8.6 MB/s eta 0:00:01\n",
      "   -------------------------- ------------- 10.7/16.3 MB 8.2 MB/s eta 0:00:01\n",
      "   -------------------------- ------------- 10.8/16.3 MB 8.0 MB/s eta 0:00:01\n",
      "   --------------------------- ------------ 11.0/16.3 MB 8.0 MB/s eta 0:00:01\n",
      "   --------------------------- ------------ 11.1/16.3 MB 7.8 MB/s eta 0:00:01\n",
      "   --------------------------- ------------ 11.3/16.3 MB 7.6 MB/s eta 0:00:01\n",
      "   --------------------------- ------------ 11.4/16.3 MB 7.5 MB/s eta 0:00:01\n",
      "   ---------------------------- ----------- 11.5/16.3 MB 7.3 MB/s eta 0:00:01\n",
      "   ---------------------------- ----------- 11.7/16.3 MB 7.2 MB/s eta 0:00:01\n",
      "   ----------------------------- ---------- 11.9/16.3 MB 7.0 MB/s eta 0:00:01\n",
      "   ----------------------------- ---------- 12.0/16.3 MB 6.9 MB/s eta 0:00:01\n",
      "   ----------------------------- ---------- 12.1/16.3 MB 6.8 MB/s eta 0:00:01\n",
      "   ------------------------------ --------- 12.4/16.3 MB 6.6 MB/s eta 0:00:01\n",
      "   ------------------------------ --------- 12.5/16.3 MB 6.4 MB/s eta 0:00:01\n",
      "   ------------------------------- -------- 12.8/16.3 MB 6.4 MB/s eta 0:00:01\n",
      "   ------------------------------- -------- 12.9/16.3 MB 6.3 MB/s eta 0:00:01\n",
      "   -------------------------------- ------- 13.2/16.3 MB 6.2 MB/s eta 0:00:01\n",
      "   -------------------------------- ------- 13.4/16.3 MB 6.1 MB/s eta 0:00:01\n",
      "   --------------------------------- ------ 13.6/16.3 MB 6.0 MB/s eta 0:00:01\n",
      "   --------------------------------- ------ 13.8/16.3 MB 5.9 MB/s eta 0:00:01\n",
      "   ---------------------------------- ----- 13.9/16.3 MB 5.8 MB/s eta 0:00:01\n",
      "   ---------------------------------- ----- 14.2/16.3 MB 5.7 MB/s eta 0:00:01\n",
      "   ----------------------------------- ---- 14.3/16.3 MB 5.6 MB/s eta 0:00:01\n",
      "   ------------------------------------ --- 14.7/16.3 MB 5.6 MB/s eta 0:00:01\n",
      "   ------------------------------------ --- 14.7/16.3 MB 5.5 MB/s eta 0:00:01\n",
      "   ------------------------------------- -- 15.1/16.3 MB 5.5 MB/s eta 0:00:01\n",
      "   ------------------------------------- -- 15.2/16.3 MB 5.4 MB/s eta 0:00:01\n",
      "   -------------------------------------- - 15.5/16.3 MB 5.4 MB/s eta 0:00:01\n",
      "   -------------------------------------- - 15.7/16.3 MB 5.4 MB/s eta 0:00:01\n",
      "   ---------------------------------------  16.0/16.3 MB 5.3 MB/s eta 0:00:01\n",
      "   ---------------------------------------  16.3/16.3 MB 5.2 MB/s eta 0:00:01\n",
      "   ---------------------------------------  16.3/16.3 MB 5.2 MB/s eta 0:00:01\n",
      "   ---------------------------------------  16.3/16.3 MB 5.2 MB/s eta 0:00:01\n",
      "   ---------------------------------------  16.3/16.3 MB 5.2 MB/s eta 0:00:01\n",
      "   ---------------------------------------  16.3/16.3 MB 5.2 MB/s eta 0:00:01\n",
      "   ---------------------------------------  16.3/16.3 MB 5.2 MB/s eta 0:00:01\n",
      "   ---------------------------------------  16.3/16.3 MB 5.2 MB/s eta 0:00:01\n",
      "   ---------------------------------------  16.3/16.3 MB 5.2 MB/s eta 0:00:01\n",
      "   ---------------------------------------- 16.3/16.3 MB 4.4 MB/s eta 0:00:00\n",
      "Downloading pytz-2024.1-py2.py3-none-any.whl (505 kB)\n",
      "   ---------------------------------------- 0.0/505.5 kB ? eta -:--:--\n",
      "   --------------- ----------------------- 204.8/505.5 kB 12.2 MB/s eta 0:00:01\n",
      "   -------------------------------------- - 481.3/505.5 kB 6.0 MB/s eta 0:00:01\n",
      "   ---------------------------------------- 505.5/505.5 kB 6.3 MB/s eta 0:00:00\n",
      "Downloading tzdata-2024.1-py2.py3-none-any.whl (345 kB)\n",
      "   ---------------------------------------- 0.0/345.4 kB ? eta -:--:--\n",
      "   ---------------------- ----------------- 194.6/345.4 kB 5.9 MB/s eta 0:00:01\n",
      "   ----------------------------------- ---- 307.2/345.4 kB 3.2 MB/s eta 0:00:01\n",
      "   ---------------------------------------- 345.4/345.4 kB 3.1 MB/s eta 0:00:00\n",
      "Installing collected packages: pytz, tzdata, numpy, pandas\n",
      "Successfully installed numpy-2.0.1 pandas-2.2.2 pytz-2024.1 tzdata-2024.1\n"
     ]
    },
    {
     "name": "stderr",
     "output_type": "stream",
     "text": [
      "\n",
      "[notice] A new release of pip is available: 23.3.2 -> 24.2\n",
      "[notice] To update, run: python.exe -m pip install --upgrade pip\n"
     ]
    }
   ],
   "execution_count": 2
  },
  {
   "metadata": {},
   "cell_type": "markdown",
   "source": [
    "## Criando um DataFrame\n",
    "\n",
    "Vamos criar um DataFrame com dados fictícios de jogadores de futebol, incluindo nome, posição, gols marcados e assistências."
   ],
   "id": "ff65f3e7d3a91080"
  },
  {
   "metadata": {
    "ExecuteTime": {
     "end_time": "2024-08-18T14:45:29.109113Z",
     "start_time": "2024-08-18T14:45:28.601246Z"
    }
   },
   "cell_type": "code",
   "source": [
    "# Execute o código abaixo:\n",
    "import pandas as pd"
   ],
   "id": "b36ff5ebace31f8",
   "outputs": [],
   "execution_count": 6
  },
  {
   "metadata": {
    "ExecuteTime": {
     "end_time": "2024-08-18T14:45:43.003309Z",
     "start_time": "2024-08-18T14:45:42.988022Z"
    }
   },
   "cell_type": "code",
   "source": [
    "# Criando um DataFrame\n",
    "data = {\n",
    "    \"Nome\": [\"Pedro\", \"Lucas\", \"Ana\", \"Maria\", \"Carlos\"],\n",
    "    \"Posição\": [\"Atacante\", \"Meio-Campo\", \"Defensor\", \"Goleiro\", \"Atacante\"],\n",
    "    \"Gols\": [10, 5, 0, 0, 8],\n",
    "    \"Assistências\": [2, 7, 1, 0, 4]\n",
    "}\n",
    "df = pd.DataFrame(data)\n",
    "print(df)"
   ],
   "id": "32bf2cef56d3ceeb",
   "outputs": [
    {
     "name": "stdout",
     "output_type": "stream",
     "text": [
      "     Nome     Posição  Gols  Assistências\n",
      "0   Pedro    Atacante    10             2\n",
      "1   Lucas  Meio-Campo     5             7\n",
      "2     Ana    Defensor     0             1\n",
      "3   Maria     Goleiro     0             0\n",
      "4  Carlos    Atacante     8             4\n"
     ]
    }
   ],
   "execution_count": 7
  },
  {
   "metadata": {},
   "cell_type": "markdown",
   "source": [
    "## Leitura de Dados de um Arquivo CSV\n",
    "\n",
    "Vamos supor que temos um arquivo CSV chamado `jogadores.csv` com os mesmos dados. Podemos ler este arquivo e carregar os dados em um DataFrame.\n",
    "\n",
    "```python\n",
    "# Leitura de dados de um arquivo CSV\n",
    "# df = pd.read_csv('jogadores.csv')\n",
    "# print(df)\n",
    "\n",
    "# Nota: Descomente as linhas acima e ajuste o caminho do arquivo se necessário.\n",
    "```\n",
    "\n",
    "## Visualizando Dados\n",
    "\n",
    "Vamos visualizar as primeiras linhas do DataFrame para ter uma ideia dos dados que estamos manipulando.\n",
    "\n",
    "```python\n",
    "# Visualizando as primeiras linhas do DataFrame\n",
    "print(df.head())\n",
    "```\n",
    "\n",
    "## Análise Descritiva\n",
    "\n",
    "Vamos calcular algumas estatísticas descritivas básicas sobre os dados.\n",
    "\n",
    "```python\n",
    "# Estatísticas descritivas\n",
    "print(df.describe())\n",
    "```\n",
    "\n",
    "## Filtrando Dados\n",
    "\n",
    "Podemos filtrar o DataFrame para mostrar apenas os jogadores que marcaram mais de 5 gols.\n",
    "\n",
    "```python\n",
    "# Filtrando jogadores com mais de 5 gols\n",
    "goleadores = df[df[\"Gols\"] > 5]\n",
    "print(goleadores)\n",
    "```\n",
    "\n",
    "Execute os códigos abaixo:"
   ],
   "id": "3cff6be7963c687"
  },
  {
   "metadata": {
    "ExecuteTime": {
     "end_time": "2024-08-18T14:52:26.819795Z",
     "start_time": "2024-08-18T14:52:26.811290Z"
    }
   },
   "cell_type": "code",
   "source": [
    "# Leitura de dados de um arquivo CSV\n",
    "df = pd.read_csv('jogadores.csv')\n",
    "print(df)"
   ],
   "id": "7793a472c6457115",
   "outputs": [
    {
     "name": "stdout",
     "output_type": "stream",
     "text": [
      "        Nome     Posição  Gols  Assistências\n",
      "0      Aline     Goleiro     7             1\n",
      "1    Gustavo    Atacante     7             5\n",
      "2    Leandro     Goleiro     2             5\n",
      "3   Fernanda  Meio-Campo     2             7\n",
      "4     Camila    Atacante     8             1\n",
      "5   Vinícius    Atacante     6             4\n",
      "6    Gabriel  Meio-Campo     1             7\n",
      "7    Rafaela    Atacante     4             4\n",
      "8      Lucas    Defensor     1            10\n",
      "9    Juliana    Defensor     8             2\n",
      "10    Felipe     Goleiro    10             6\n",
      "11    Rafael    Defensor     2             8\n",
      "12     Fábio     Goleiro     5             0\n",
      "13   Eduarda     Goleiro     3             3\n",
      "14     Lucas  Meio-Campo     9            10\n",
      "15   Isabela     Goleiro     2             2\n",
      "16    Rafael    Defensor     7             2\n",
      "17   Leandro  Meio-Campo     9             5\n",
      "18   Rafaela    Atacante     8             6\n",
      "19   Rafaela    Atacante     7             5\n",
      "20     Fábio     Goleiro     5             6\n",
      "21    Rafael  Meio-Campo     2             8\n",
      "22   Ricardo    Defensor     9             8\n",
      "23  Nathalia    Atacante     1             3\n",
      "24    Sérgio  Meio-Campo     2             1\n",
      "25     Aline  Meio-Campo     2             4\n",
      "26   Ricardo  Meio-Campo     5             1\n",
      "27    Renato    Defensor     2             5\n",
      "28      Caio    Atacante     6             3\n",
      "29      Caio  Meio-Campo     3             6\n",
      "30    Felipe    Atacante     2             6\n",
      "31   Juliana    Defensor     2             3\n",
      "32      Caio     Goleiro     7             8\n",
      "33   Gustavo    Defensor    10             1\n",
      "34   Juliana    Defensor     7             3\n",
      "35    Renata     Goleiro     9             6\n",
      "36   Rafaela    Atacante     8             1\n",
      "37     Maria  Meio-Campo     7             6\n",
      "38   Antônio    Atacante     0             5\n",
      "39      João    Defensor     2             4\n",
      "40    Sérgio    Atacante     9             8\n",
      "41    Daniel     Goleiro     9             1\n",
      "42   Beatriz    Defensor     3             1\n",
      "43  Patrícia     Goleiro     8             6\n",
      "44  Nathalia    Defensor     8            10\n",
      "45   Juliana  Meio-Campo     2             0\n",
      "46   Eduarda     Goleiro    10             9\n",
      "47     Bruno    Defensor     8             5\n",
      "48   Rodrigo    Defensor     4             6\n",
      "49   Marcelo  Meio-Campo     0            10\n"
     ]
    }
   ],
   "execution_count": 14
  },
  {
   "metadata": {
    "ExecuteTime": {
     "end_time": "2024-08-18T14:52:30.600361Z",
     "start_time": "2024-08-18T14:52:30.591868Z"
    }
   },
   "cell_type": "code",
   "source": [
    "# Visualizando as primeiras linhas do DataFrame\n",
    "print(df.head())"
   ],
   "id": "2e871fd4a10da5a8",
   "outputs": [
    {
     "name": "stdout",
     "output_type": "stream",
     "text": [
      "       Nome     Posição  Gols  Assistências\n",
      "0     Aline     Goleiro     7             1\n",
      "1   Gustavo    Atacante     7             5\n",
      "2   Leandro     Goleiro     2             5\n",
      "3  Fernanda  Meio-Campo     2             7\n",
      "4    Camila    Atacante     8             1\n"
     ]
    }
   ],
   "execution_count": 15
  },
  {
   "metadata": {
    "ExecuteTime": {
     "end_time": "2024-08-18T14:52:33.065918Z",
     "start_time": "2024-08-18T14:52:33.057398Z"
    }
   },
   "cell_type": "code",
   "source": [
    "# Estatísticas descritivas\n",
    "print(df.describe())"
   ],
   "id": "997c44e235a686b5",
   "outputs": [
    {
     "name": "stdout",
     "output_type": "stream",
     "text": [
      "            Gols  Assistências\n",
      "count  50.000000     50.000000\n",
      "mean    5.200000      4.740000\n",
      "std     3.136357      2.870042\n",
      "min     0.000000      0.000000\n",
      "25%     2.000000      2.250000\n",
      "50%     5.500000      5.000000\n",
      "75%     8.000000      6.000000\n",
      "max    10.000000     10.000000\n"
     ]
    }
   ],
   "execution_count": 16
  },
  {
   "metadata": {
    "ExecuteTime": {
     "end_time": "2024-08-18T14:52:46.872616Z",
     "start_time": "2024-08-18T14:52:46.865416Z"
    }
   },
   "cell_type": "code",
   "source": [
    "# Filtrando jogadores com mais de 5 gols\n",
    "goleadores = df[df[\"Gols\"] > 5]\n",
    "print(goleadores)"
   ],
   "id": "e0d9da5ea73266d2",
   "outputs": [
    {
     "name": "stdout",
     "output_type": "stream",
     "text": [
      "        Nome     Posição  Gols  Assistências\n",
      "0      Aline     Goleiro     7             1\n",
      "1    Gustavo    Atacante     7             5\n",
      "4     Camila    Atacante     8             1\n",
      "5   Vinícius    Atacante     6             4\n",
      "9    Juliana    Defensor     8             2\n",
      "10    Felipe     Goleiro    10             6\n",
      "14     Lucas  Meio-Campo     9            10\n",
      "16    Rafael    Defensor     7             2\n",
      "17   Leandro  Meio-Campo     9             5\n",
      "18   Rafaela    Atacante     8             6\n",
      "19   Rafaela    Atacante     7             5\n",
      "22   Ricardo    Defensor     9             8\n",
      "28      Caio    Atacante     6             3\n",
      "32      Caio     Goleiro     7             8\n",
      "33   Gustavo    Defensor    10             1\n",
      "34   Juliana    Defensor     7             3\n",
      "35    Renata     Goleiro     9             6\n",
      "36   Rafaela    Atacante     8             1\n",
      "37     Maria  Meio-Campo     7             6\n",
      "40    Sérgio    Atacante     9             8\n",
      "41    Daniel     Goleiro     9             1\n",
      "43  Patrícia     Goleiro     8             6\n",
      "44  Nathalia    Defensor     8            10\n",
      "46   Eduarda     Goleiro    10             9\n",
      "47     Bruno    Defensor     8             5\n"
     ]
    }
   ],
   "execution_count": 18
  },
  {
   "metadata": {},
   "cell_type": "markdown",
   "source": [
    "## Adicionando uma Nova Coluna\n",
    "\n",
    "Vamos adicionar uma nova coluna chamada \"Pontos\", onde cada gol vale 3 pontos e cada assistência vale 1 ponto.\n",
    "\n",
    "```python\n",
    "# Adicionando uma nova coluna \"Pontos\"\n",
    "df[\"Pontos\"] = df[\"Gols\"] * 3 + df[\"Assistências\"]\n",
    "print(df)\n",
    "```\n",
    "\n",
    "## Ordenando Dados\n",
    "\n",
    "Vamos ordenar o DataFrame pelo número de pontos em ordem decrescente.\n",
    "\n",
    "```python\n",
    "# Ordenando pelo número de pontos\n",
    "df_ordenado = df.sort_values(by=\"Pontos\", ascending=False)\n",
    "print(df_ordenado)\n",
    "```\n",
    "\n",
    "## Salvando os Dados em um Arquivo CSV\n",
    "\n",
    "Podemos salvar o DataFrame resultante em um novo arquivo CSV.\n",
    "\n",
    "```python\n",
    "# Salvando os dados em um arquivo CSV\n",
    "# df_ordenado.to_csv('jogadores_ordenados.csv', index=False)\n",
    "\n",
    "# Nota: Descomente a linha acima e ajuste o caminho do arquivo se necessário.\n",
    "```"
   ],
   "id": "45a8bfd45afd9fa8"
  },
  {
   "metadata": {},
   "cell_type": "markdown",
   "source": [
    "___________________\n",
    "Execute os códigos abaixo:"
   ],
   "id": "fcad62cc816de0e2"
  },
  {
   "metadata": {
    "ExecuteTime": {
     "end_time": "2024-08-18T14:54:27.994870Z",
     "start_time": "2024-08-18T14:54:27.985390Z"
    }
   },
   "cell_type": "code",
   "source": [
    "# Adicionando uma nova coluna \"Pontos\"\n",
    "df[\"Pontos\"] = df[\"Gols\"] * 3 + df[\"Assistências\"]\n",
    "print(df)"
   ],
   "id": "6257d5ca5d458872",
   "outputs": [
    {
     "name": "stdout",
     "output_type": "stream",
     "text": [
      "        Nome     Posição  Gols  Assistências  Pontos\n",
      "0      Aline     Goleiro     7             1      22\n",
      "1    Gustavo    Atacante     7             5      26\n",
      "2    Leandro     Goleiro     2             5      11\n",
      "3   Fernanda  Meio-Campo     2             7      13\n",
      "4     Camila    Atacante     8             1      25\n",
      "5   Vinícius    Atacante     6             4      22\n",
      "6    Gabriel  Meio-Campo     1             7      10\n",
      "7    Rafaela    Atacante     4             4      16\n",
      "8      Lucas    Defensor     1            10      13\n",
      "9    Juliana    Defensor     8             2      26\n",
      "10    Felipe     Goleiro    10             6      36\n",
      "11    Rafael    Defensor     2             8      14\n",
      "12     Fábio     Goleiro     5             0      15\n",
      "13   Eduarda     Goleiro     3             3      12\n",
      "14     Lucas  Meio-Campo     9            10      37\n",
      "15   Isabela     Goleiro     2             2       8\n",
      "16    Rafael    Defensor     7             2      23\n",
      "17   Leandro  Meio-Campo     9             5      32\n",
      "18   Rafaela    Atacante     8             6      30\n",
      "19   Rafaela    Atacante     7             5      26\n",
      "20     Fábio     Goleiro     5             6      21\n",
      "21    Rafael  Meio-Campo     2             8      14\n",
      "22   Ricardo    Defensor     9             8      35\n",
      "23  Nathalia    Atacante     1             3       6\n",
      "24    Sérgio  Meio-Campo     2             1       7\n",
      "25     Aline  Meio-Campo     2             4      10\n",
      "26   Ricardo  Meio-Campo     5             1      16\n",
      "27    Renato    Defensor     2             5      11\n",
      "28      Caio    Atacante     6             3      21\n",
      "29      Caio  Meio-Campo     3             6      15\n",
      "30    Felipe    Atacante     2             6      12\n",
      "31   Juliana    Defensor     2             3       9\n",
      "32      Caio     Goleiro     7             8      29\n",
      "33   Gustavo    Defensor    10             1      31\n",
      "34   Juliana    Defensor     7             3      24\n",
      "35    Renata     Goleiro     9             6      33\n",
      "36   Rafaela    Atacante     8             1      25\n",
      "37     Maria  Meio-Campo     7             6      27\n",
      "38   Antônio    Atacante     0             5       5\n",
      "39      João    Defensor     2             4      10\n",
      "40    Sérgio    Atacante     9             8      35\n",
      "41    Daniel     Goleiro     9             1      28\n",
      "42   Beatriz    Defensor     3             1      10\n",
      "43  Patrícia     Goleiro     8             6      30\n",
      "44  Nathalia    Defensor     8            10      34\n",
      "45   Juliana  Meio-Campo     2             0       6\n",
      "46   Eduarda     Goleiro    10             9      39\n",
      "47     Bruno    Defensor     8             5      29\n",
      "48   Rodrigo    Defensor     4             6      18\n",
      "49   Marcelo  Meio-Campo     0            10      10\n"
     ]
    }
   ],
   "execution_count": 21
  },
  {
   "metadata": {
    "ExecuteTime": {
     "end_time": "2024-08-18T14:54:48.669937Z",
     "start_time": "2024-08-18T14:54:48.660972Z"
    }
   },
   "cell_type": "code",
   "source": [
    "# Agrupando dados por posição\n",
    "estatisticas_por_posicao = df.groupby(\"Posição\")[[\"Gols\", \"Assistências\"]].sum()\n",
    "print(estatisticas_por_posicao)"
   ],
   "id": "2ea909def746ea8c",
   "outputs": [
    {
     "name": "stdout",
     "output_type": "stream",
     "text": [
      "            Gols  Assistências\n",
      "Posição                       \n",
      "Atacante      66            51\n",
      "Defensor      73            68\n",
      "Goleiro       77            53\n",
      "Meio-Campo    44            65\n"
     ]
    }
   ],
   "execution_count": 22
  },
  {
   "metadata": {
    "ExecuteTime": {
     "end_time": "2024-08-18T14:55:10.306977Z",
     "start_time": "2024-08-18T14:55:10.296216Z"
    }
   },
   "cell_type": "code",
   "source": [
    "# Ordenando pelo número de pontos\n",
    "df_ordenado = df.sort_values(by=\"Pontos\", ascending=False)\n",
    "print(df_ordenado)"
   ],
   "id": "6055d1ef5001ec4a",
   "outputs": [
    {
     "name": "stdout",
     "output_type": "stream",
     "text": [
      "        Nome     Posição  Gols  Assistências  Pontos\n",
      "46   Eduarda     Goleiro    10             9      39\n",
      "14     Lucas  Meio-Campo     9            10      37\n",
      "10    Felipe     Goleiro    10             6      36\n",
      "22   Ricardo    Defensor     9             8      35\n",
      "40    Sérgio    Atacante     9             8      35\n",
      "44  Nathalia    Defensor     8            10      34\n",
      "35    Renata     Goleiro     9             6      33\n",
      "17   Leandro  Meio-Campo     9             5      32\n",
      "33   Gustavo    Defensor    10             1      31\n",
      "18   Rafaela    Atacante     8             6      30\n",
      "43  Patrícia     Goleiro     8             6      30\n",
      "47     Bruno    Defensor     8             5      29\n",
      "32      Caio     Goleiro     7             8      29\n",
      "41    Daniel     Goleiro     9             1      28\n",
      "37     Maria  Meio-Campo     7             6      27\n",
      "1    Gustavo    Atacante     7             5      26\n",
      "9    Juliana    Defensor     8             2      26\n",
      "19   Rafaela    Atacante     7             5      26\n",
      "4     Camila    Atacante     8             1      25\n",
      "36   Rafaela    Atacante     8             1      25\n",
      "34   Juliana    Defensor     7             3      24\n",
      "16    Rafael    Defensor     7             2      23\n",
      "0      Aline     Goleiro     7             1      22\n",
      "5   Vinícius    Atacante     6             4      22\n",
      "20     Fábio     Goleiro     5             6      21\n",
      "28      Caio    Atacante     6             3      21\n",
      "48   Rodrigo    Defensor     4             6      18\n",
      "7    Rafaela    Atacante     4             4      16\n",
      "26   Ricardo  Meio-Campo     5             1      16\n",
      "29      Caio  Meio-Campo     3             6      15\n",
      "12     Fábio     Goleiro     5             0      15\n",
      "21    Rafael  Meio-Campo     2             8      14\n",
      "11    Rafael    Defensor     2             8      14\n",
      "3   Fernanda  Meio-Campo     2             7      13\n",
      "8      Lucas    Defensor     1            10      13\n",
      "30    Felipe    Atacante     2             6      12\n",
      "13   Eduarda     Goleiro     3             3      12\n",
      "2    Leandro     Goleiro     2             5      11\n",
      "27    Renato    Defensor     2             5      11\n",
      "6    Gabriel  Meio-Campo     1             7      10\n",
      "49   Marcelo  Meio-Campo     0            10      10\n",
      "25     Aline  Meio-Campo     2             4      10\n",
      "39      João    Defensor     2             4      10\n",
      "42   Beatriz    Defensor     3             1      10\n",
      "31   Juliana    Defensor     2             3       9\n",
      "15   Isabela     Goleiro     2             2       8\n",
      "24    Sérgio  Meio-Campo     2             1       7\n",
      "23  Nathalia    Atacante     1             3       6\n",
      "45   Juliana  Meio-Campo     2             0       6\n",
      "38   Antônio    Atacante     0             5       5\n"
     ]
    }
   ],
   "execution_count": 23
  },
  {
   "metadata": {
    "ExecuteTime": {
     "end_time": "2024-08-18T14:56:02.221392Z",
     "start_time": "2024-08-18T14:56:02.216094Z"
    }
   },
   "cell_type": "code",
   "source": "df_ordenado.to_csv('jogadores_ordenados.csv', index=False)",
   "id": "6d96b8cb6683e4ae",
   "outputs": [],
   "execution_count": 25
  },
  {
   "metadata": {},
   "cell_type": "markdown",
   "source": [
    "## Conclusão\n",
    "\n",
    "Neste notebook, aprendemos como usar a biblioteca Pandas para criar, manipular e analisar dados no contexto esportivo. Exploramos a criação de DataFrames, leitura de dados de arquivos CSV, filtragem, agregação, ordenação e salvamento de dados."
   ],
   "id": "fa54190848752ec"
  }
 ],
 "metadata": {
  "kernelspec": {
   "display_name": "Python 3",
   "language": "python",
   "name": "python3"
  },
  "language_info": {
   "codemirror_mode": {
    "name": "ipython",
    "version": 2
   },
   "file_extension": ".py",
   "mimetype": "text/x-python",
   "name": "python",
   "nbconvert_exporter": "python",
   "pygments_lexer": "ipython2",
   "version": "2.7.6"
  }
 },
 "nbformat": 4,
 "nbformat_minor": 5
}
